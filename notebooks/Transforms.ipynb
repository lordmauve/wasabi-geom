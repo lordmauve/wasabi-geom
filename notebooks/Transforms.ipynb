{
 "cells": [
  {
   "cell_type": "markdown",
   "metadata": {},
   "source": [
    "# Affine Transformations\n",
    "\n",
    "Here we use sympy to derive the calculations for various affine transformation\n",
    "operations."
   ]
  },
  {
   "cell_type": "code",
   "execution_count": 1,
   "metadata": {},
   "outputs": [],
   "source": [
    "from sympy import *"
   ]
  },
  {
   "cell_type": "code",
   "execution_count": 2,
   "metadata": {},
   "outputs": [
    {
     "data": {
      "text/latex": [
       "$\\displaystyle \\left[\\begin{matrix}a & b & c\\\\d & e & f\\\\0 & 0 & 1\\end{matrix}\\right]$"
      ],
      "text/plain": [
       "Matrix([\n",
       "[a, b, c],\n",
       "[d, e, f],\n",
       "[0, 0, 1]])"
      ]
     },
     "execution_count": 2,
     "metadata": {},
     "output_type": "execute_result"
    }
   ],
   "source": [
    "def mat3x2(name=None):\n",
    "    a, b, c, d, e, f = symbols(f'{name}_a {name}_b {name}_c {name}_d {name}_e {name}_f' if name else 'a b c d e f')\n",
    "    return Matrix([\n",
    "        [a, b, c],\n",
    "        [d, e, f],\n",
    "        [0, 0, 1]\n",
    "    ])\n",
    "mat3x2()"
   ]
  },
  {
   "cell_type": "code",
   "execution_count": 3,
   "metadata": {},
   "outputs": [
    {
     "data": {
      "text/latex": [
       "$\\displaystyle \\left[\\begin{matrix}A_{a} B_{a} + A_{b} B_{d} & A_{a} B_{b} + A_{b} B_{e} & A_{a} B_{c} + A_{b} B_{f} + A_{c}\\\\A_{d} B_{a} + A_{e} B_{d} & A_{d} B_{b} + A_{e} B_{e} & A_{d} B_{c} + A_{e} B_{f} + A_{f}\\\\0 & 0 & 1\\end{matrix}\\right]$"
      ],
      "text/plain": [
       "Matrix([\n",
       "[A_a*B_a + A_b*B_d, A_a*B_b + A_b*B_e, A_a*B_c + A_b*B_f + A_c],\n",
       "[A_d*B_a + A_e*B_d, A_d*B_b + A_e*B_e, A_d*B_c + A_e*B_f + A_f],\n",
       "[                0,                 0,                       1]])"
      ]
     },
     "execution_count": 3,
     "metadata": {},
     "output_type": "execute_result"
    }
   ],
   "source": [
    "# What is the formula for chaining affine transformations?\n",
    "mat3x2('A') * mat3x2('B')"
   ]
  },
  {
   "cell_type": "code",
   "execution_count": 4,
   "metadata": {},
   "outputs": [
    {
     "data": {
      "text/latex": [
       "$\\displaystyle \\left[\\begin{matrix}\\frac{e}{a e - b d} & - \\frac{b}{a e - b d} & \\frac{b f - c e}{a e - b d}\\\\- \\frac{d}{a e - b d} & \\frac{a}{a e - b d} & \\frac{- a f + c d}{a e - b d}\\\\0 & 0 & 1\\end{matrix}\\right]$"
      ],
      "text/plain": [
       "Matrix([\n",
       "[ e/(a*e - b*d), -b/(a*e - b*d),  (b*f - c*e)/(a*e - b*d)],\n",
       "[-d/(a*e - b*d),  a/(a*e - b*d), (-a*f + c*d)/(a*e - b*d)],\n",
       "[             0,              0,                        1]])"
      ]
     },
     "execution_count": 4,
     "metadata": {},
     "output_type": "execute_result"
    }
   ],
   "source": [
    "# How do we invert an affine transformation?\n",
    "mat3x2() ** -1"
   ]
  },
  {
   "cell_type": "code",
   "execution_count": 5,
   "metadata": {},
   "outputs": [
    {
     "data": {
      "text/latex": [
       "$\\displaystyle \\left[\\begin{matrix}S_{x} \\cos{\\left(\\theta \\right)} & S_{y} \\sin{\\left(\\theta \\right)} & T_{x}\\\\- S_{x} \\sin{\\left(\\theta \\right)} & S_{y} \\cos{\\left(\\theta \\right)} & T_{y}\\\\0 & 0 & 1\\end{matrix}\\right]$"
      ],
      "text/plain": [
       "Matrix([\n",
       "[ S_x*cos(theta), S_y*sin(theta), T_x],\n",
       "[-S_x*sin(theta), S_y*cos(theta), T_y],\n",
       "[              0,              0,   1]])"
      ]
     },
     "execution_count": 5,
     "metadata": {},
     "output_type": "execute_result"
    }
   ],
   "source": [
    "# How do we construct an affine transform from scale, rotation, and translation?\n",
    "\n",
    "def rot(name='theta'):\n",
    "    theta = symbols(name)\n",
    "    s = sin(theta)\n",
    "    c = cos(theta)\n",
    "    return Matrix([\n",
    "        [c, s, 0],\n",
    "        [-s, c, 0],\n",
    "        [0, 0, 1],\n",
    "    ])\n",
    "\n",
    "\n",
    "def scale(name='S'):\n",
    "    x, y = symbols(f'{name}_x {name}_y')\n",
    "    return Matrix([\n",
    "        [x, 0, 0],\n",
    "        [0, y, 0],\n",
    "        [0, 0, 1]\n",
    "    ])\n",
    "\n",
    "\n",
    "def xlate(name='T'):\n",
    "    x, y = symbols(f'{name}_x {name}_y')\n",
    "    return Matrix([\n",
    "        [1, 0, x],\n",
    "        [0, 1, y],\n",
    "        [0, 0, 1]\n",
    "    ])\n",
    "\n",
    "xlate() * rot() * scale()"
   ]
  },
  {
   "cell_type": "markdown",
   "metadata": {},
   "source": [
    "## Transforming Coordinates"
   ]
  },
  {
   "cell_type": "code",
   "execution_count": 6,
   "metadata": {},
   "outputs": [
    {
     "data": {
      "text/latex": [
       "$\\displaystyle \\left[\\begin{matrix}x_{0} & y_{0} & 1\\\\x_{1} & y_{1} & 1\\\\x_{2} & y_{2} & 1\\\\x_{3} & y_{3} & 1\\\\x_{4} & y_{4} & 1\\\\x_{5} & y_{5} & 1\\\\x_{6} & y_{6} & 1\\\\x_{7} & y_{7} & 1\\\\x_{8} & y_{8} & 1\\\\x_{9} & y_{9} & 1\\end{matrix}\\right]$"
      ],
      "text/plain": [
       "Matrix([\n",
       "[x_0, y_0, 1],\n",
       "[x_1, y_1, 1],\n",
       "[x_2, y_2, 1],\n",
       "[x_3, y_3, 1],\n",
       "[x_4, y_4, 1],\n",
       "[x_5, y_5, 1],\n",
       "[x_6, y_6, 1],\n",
       "[x_7, y_7, 1],\n",
       "[x_8, y_8, 1],\n",
       "[x_9, y_9, 1]])"
      ]
     },
     "execution_count": 6,
     "metadata": {},
     "output_type": "execute_result"
    }
   ],
   "source": [
    "coord = Matrix([\n",
    "    symbols(f'x_{n} y_{n}') + (1,)\n",
    "    for n in range(10)\n",
    "])\n",
    "coord"
   ]
  },
  {
   "cell_type": "code",
   "execution_count": 7,
   "metadata": {},
   "outputs": [
    {
     "data": {
      "text/latex": [
       "$\\displaystyle \\left[\\begin{matrix}a x_{0} + b y_{0} + c & d x_{0} + e y_{0} + f\\\\a x_{1} + b y_{1} + c & d x_{1} + e y_{1} + f\\\\a x_{2} + b y_{2} + c & d x_{2} + e y_{2} + f\\\\a x_{3} + b y_{3} + c & d x_{3} + e y_{3} + f\\\\a x_{4} + b y_{4} + c & d x_{4} + e y_{4} + f\\\\a x_{5} + b y_{5} + c & d x_{5} + e y_{5} + f\\\\a x_{6} + b y_{6} + c & d x_{6} + e y_{6} + f\\\\a x_{7} + b y_{7} + c & d x_{7} + e y_{7} + f\\\\a x_{8} + b y_{8} + c & d x_{8} + e y_{8} + f\\\\a x_{9} + b y_{9} + c & d x_{9} + e y_{9} + f\\end{matrix}\\right]$"
      ],
      "text/plain": [
       "Matrix([\n",
       "[a*x_0 + b*y_0 + c, d*x_0 + e*y_0 + f],\n",
       "[a*x_1 + b*y_1 + c, d*x_1 + e*y_1 + f],\n",
       "[a*x_2 + b*y_2 + c, d*x_2 + e*y_2 + f],\n",
       "[a*x_3 + b*y_3 + c, d*x_3 + e*y_3 + f],\n",
       "[a*x_4 + b*y_4 + c, d*x_4 + e*y_4 + f],\n",
       "[a*x_5 + b*y_5 + c, d*x_5 + e*y_5 + f],\n",
       "[a*x_6 + b*y_6 + c, d*x_6 + e*y_6 + f],\n",
       "[a*x_7 + b*y_7 + c, d*x_7 + e*y_7 + f],\n",
       "[a*x_8 + b*y_8 + c, d*x_8 + e*y_8 + f],\n",
       "[a*x_9 + b*y_9 + c, d*x_9 + e*y_9 + f]])"
      ]
     },
     "execution_count": 7,
     "metadata": {},
     "output_type": "execute_result"
    }
   ],
   "source": [
    "xformed = (coord * mat3x2().T)\n",
    "xformed.col_del(2)\n",
    "xformed"
   ]
  }
 ],
 "metadata": {
  "kernelspec": {
   "display_name": "Python 3",
   "language": "python",
   "name": "python3"
  },
  "language_info": {
   "codemirror_mode": {
    "name": "ipython",
    "version": 3
   },
   "file_extension": ".py",
   "mimetype": "text/x-python",
   "name": "python",
   "nbconvert_exporter": "python",
   "pygments_lexer": "ipython3",
   "version": "3.8.3"
  }
 },
 "nbformat": 4,
 "nbformat_minor": 4
}
