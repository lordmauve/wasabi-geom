{
 "cells": [
  {
   "cell_type": "code",
   "execution_count": 1,
   "metadata": {},
   "outputs": [
    {
     "name": "stdout",
     "output_type": "stream",
     "text": [
      "Collecting sympy\n",
      "  Downloading sympy-1.7.1-py3-none-any.whl (5.9 MB)\n",
      "\u001b[K     |████████████████████████████████| 5.9 MB 4.0 MB/s eta 0:00:01\n",
      "\u001b[?25hCollecting mpmath>=0.19\n",
      "  Downloading mpmath-1.2.1-py3-none-any.whl (532 kB)\n",
      "\u001b[K     |████████████████████████████████| 532 kB 4.8 MB/s eta 0:00:01\n",
      "\u001b[?25hInstalling collected packages: mpmath, sympy\n",
      "Successfully installed mpmath-1.2.1 sympy-1.7.1\n",
      "\u001b[33mWARNING: You are using pip version 20.2.3; however, version 21.0.1 is available.\n",
      "You should consider upgrading via the '/home/mauve/dev/wasabi2d/venv/bin/python3.8 -m pip install --upgrade pip' command.\u001b[0m\n"
     ]
    }
   ],
   "source": [
    "!pip install sympy"
   ]
  },
  {
   "cell_type": "code",
   "execution_count": 5,
   "metadata": {},
   "outputs": [],
   "source": [
    "from sympy import *"
   ]
  },
  {
   "cell_type": "code",
   "execution_count": 66,
   "metadata": {},
   "outputs": [
    {
     "data": {
      "text/latex": [
       "$\\displaystyle \\left[\\begin{matrix}\\frac{e}{a e - b d} & - \\frac{b}{a e - b d} & \\frac{b f - c e}{a e - b d}\\\\- \\frac{d}{a e - b d} & \\frac{a}{a e - b d} & \\frac{- a f + c d}{a e - b d}\\\\0 & 0 & 1\\end{matrix}\\right]$"
      ],
      "text/plain": [
       "Matrix([\n",
       "[ e/(a*e - b*d), -b/(a*e - b*d),  (b*f - c*e)/(a*e - b*d)],\n",
       "[-d/(a*e - b*d),  a/(a*e - b*d), (-a*f + c*d)/(a*e - b*d)],\n",
       "[             0,              0,                        1]])"
      ]
     },
     "execution_count": 66,
     "metadata": {},
     "output_type": "execute_result"
    }
   ],
   "source": [
    "def mat3x2(name=None):\n",
    "    a, b, c, d, e, f = symbols(f'{name}_a {name}_b {name}_c {name}_d {name}_e {name}_f' if name else 'a b c d e f')\n",
    "    return Matrix([[a, b, c], [d, e, f]])\n",
    "\n",
    "mat3x2().row_insert(2, Matrix([[0, 0, 1]])) ** -1"
   ]
  },
  {
   "cell_type": "code",
   "execution_count": 61,
   "metadata": {},
   "outputs": [
    {
     "data": {
      "text/latex": [
       "$\\displaystyle \\left[\\begin{matrix}A_{a} B_{a} + A_{b} B_{d} & A_{a} B_{b} + A_{b} B_{e} & A_{a} B_{c} + A_{b} B_{f} + A_{c}\\\\A_{d} B_{a} + A_{e} B_{d} & A_{d} B_{b} + A_{e} B_{e} & A_{d} B_{c} + A_{e} B_{f} + A_{f}\\\\0 & 0 & 1\\end{matrix}\\right]$"
      ],
      "text/plain": [
       "Matrix([\n",
       "[A_a*B_a + A_b*B_d, A_a*B_b + A_b*B_e, A_a*B_c + A_b*B_f + A_c],\n",
       "[A_d*B_a + A_e*B_d, A_d*B_b + A_e*B_e, A_d*B_c + A_e*B_f + A_f],\n",
       "[                0,                 0,                       1]])"
      ]
     },
     "execution_count": 61,
     "metadata": {},
     "output_type": "execute_result"
    }
   ],
   "source": [
    "mat3x2('A').row_insert(2, Matrix([[0, 0, 1]])) * mat3x2('B').row_insert(2, Matrix([[0, 0, 1]]))"
   ]
  },
  {
   "cell_type": "code",
   "execution_count": 48,
   "metadata": {},
   "outputs": [
    {
     "data": {
      "text/latex": [
       "$\\displaystyle \\left[\\begin{matrix}S_{x} \\cos{\\left(\\theta \\right)} & S_{x} \\sin{\\left(\\theta \\right)} & T_{x}\\\\- S_{y} \\sin{\\left(\\theta \\right)} & S_{y} \\cos{\\left(\\theta \\right)} & T_{y}\\\\0 & 0 & 1\\end{matrix}\\right]$"
      ],
      "text/plain": [
       "Matrix([\n",
       "[ S_x*cos(theta), S_x*sin(theta), T_x],\n",
       "[-S_y*sin(theta), S_y*cos(theta), T_y],\n",
       "[              0,              0,   1]])"
      ]
     },
     "execution_count": 48,
     "metadata": {},
     "output_type": "execute_result"
    }
   ],
   "source": [
    "def rot(name='theta'):\n",
    "    theta = symbols(name)\n",
    "    s = sin(theta)\n",
    "    c = cos(theta)\n",
    "    return Matrix([\n",
    "        [c, s],\n",
    "        [-s, c],\n",
    "    ])\n",
    "\n",
    "\n",
    "def scale(name='S'):\n",
    "    x, y = symbols(f'{name}_x {name}_y')\n",
    "    return Matrix([\n",
    "        [x, 0],\n",
    "        [0, y]\n",
    "    ])\n",
    "\n",
    "\n",
    "def with_xlate(m, name='T'):\n",
    "    x, y = symbols(f'{name}_x {name}_y')\n",
    "    return m.col_insert(2, Matrix([x, y])).row_insert(2, Matrix([[0, 0, 1]]))\n",
    "\n",
    "\n",
    "def xform(name):\n",
    "    return with_xlate(scale(f'{name}_scale') * rot(f'{name}_theta'), f'{name}_xlate')\n",
    "\n",
    "with_xlate(scale() * rot())"
   ]
  },
  {
   "cell_type": "code",
   "execution_count": 37,
   "metadata": {},
   "outputs": [
    {
     "data": {
      "text/latex": [
       "$\\displaystyle \\left[\\begin{matrix}T_{0, 0} & T_{0, 1} & T_{0, 2}\\\\T_{1, 0} & T_{1, 1} & T_{1, 2}\\\\0 & 0 & 1\\end{matrix}\\right]$"
      ],
      "text/plain": [
       "Matrix([\n",
       "[T[0, 0], T[0, 1], T[0, 2]],\n",
       "[T[1, 0], T[1, 1], T[1, 2]],\n",
       "[      0,       0,       1]])"
      ]
     },
     "execution_count": 37,
     "metadata": {},
     "output_type": "execute_result"
    }
   ],
   "source": [
    "generic_xform = MatrixSymbol('T', 2, 3).as_explicit().row_insert(2, Matrix([[0, 0, 1]]))\n",
    "generic_xform"
   ]
  },
  {
   "cell_type": "code",
   "execution_count": 58,
   "metadata": {},
   "outputs": [
    {
     "data": {
      "text/latex": [
       "$\\displaystyle \\left[\\begin{matrix}x_{0} T_{0, 0} + y_{0} T_{0, 1} + T_{0, 2} & x_{0} T_{1, 0} + y_{0} T_{1, 1} + T_{1, 2}\\\\x_{1} T_{0, 0} + y_{1} T_{0, 1} + T_{0, 2} & x_{1} T_{1, 0} + y_{1} T_{1, 1} + T_{1, 2}\\\\x_{2} T_{0, 0} + y_{2} T_{0, 1} + T_{0, 2} & x_{2} T_{1, 0} + y_{2} T_{1, 1} + T_{1, 2}\\\\x_{3} T_{0, 0} + y_{3} T_{0, 1} + T_{0, 2} & x_{3} T_{1, 0} + y_{3} T_{1, 1} + T_{1, 2}\\\\x_{4} T_{0, 0} + y_{4} T_{0, 1} + T_{0, 2} & x_{4} T_{1, 0} + y_{4} T_{1, 1} + T_{1, 2}\\\\x_{5} T_{0, 0} + y_{5} T_{0, 1} + T_{0, 2} & x_{5} T_{1, 0} + y_{5} T_{1, 1} + T_{1, 2}\\\\x_{6} T_{0, 0} + y_{6} T_{0, 1} + T_{0, 2} & x_{6} T_{1, 0} + y_{6} T_{1, 1} + T_{1, 2}\\\\x_{7} T_{0, 0} + y_{7} T_{0, 1} + T_{0, 2} & x_{7} T_{1, 0} + y_{7} T_{1, 1} + T_{1, 2}\\\\x_{8} T_{0, 0} + y_{8} T_{0, 1} + T_{0, 2} & x_{8} T_{1, 0} + y_{8} T_{1, 1} + T_{1, 2}\\\\x_{9} T_{0, 0} + y_{9} T_{0, 1} + T_{0, 2} & x_{9} T_{1, 0} + y_{9} T_{1, 1} + T_{1, 2}\\end{matrix}\\right]$"
      ],
      "text/plain": [
       "Matrix([\n",
       "[x_0*T[0, 0] + y_0*T[0, 1] + T[0, 2], x_0*T[1, 0] + y_0*T[1, 1] + T[1, 2]],\n",
       "[x_1*T[0, 0] + y_1*T[0, 1] + T[0, 2], x_1*T[1, 0] + y_1*T[1, 1] + T[1, 2]],\n",
       "[x_2*T[0, 0] + y_2*T[0, 1] + T[0, 2], x_2*T[1, 0] + y_2*T[1, 1] + T[1, 2]],\n",
       "[x_3*T[0, 0] + y_3*T[0, 1] + T[0, 2], x_3*T[1, 0] + y_3*T[1, 1] + T[1, 2]],\n",
       "[x_4*T[0, 0] + y_4*T[0, 1] + T[0, 2], x_4*T[1, 0] + y_4*T[1, 1] + T[1, 2]],\n",
       "[x_5*T[0, 0] + y_5*T[0, 1] + T[0, 2], x_5*T[1, 0] + y_5*T[1, 1] + T[1, 2]],\n",
       "[x_6*T[0, 0] + y_6*T[0, 1] + T[0, 2], x_6*T[1, 0] + y_6*T[1, 1] + T[1, 2]],\n",
       "[x_7*T[0, 0] + y_7*T[0, 1] + T[0, 2], x_7*T[1, 0] + y_7*T[1, 1] + T[1, 2]],\n",
       "[x_8*T[0, 0] + y_8*T[0, 1] + T[0, 2], x_8*T[1, 0] + y_8*T[1, 1] + T[1, 2]],\n",
       "[x_9*T[0, 0] + y_9*T[0, 1] + T[0, 2], x_9*T[1, 0] + y_9*T[1, 1] + T[1, 2]]])"
      ]
     },
     "execution_count": 58,
     "metadata": {},
     "output_type": "execute_result"
    }
   ],
   "source": [
    "coord = Matrix([\n",
    "    symbols(f'x_{n} y_{n}') + (1,)\n",
    "    for n in range(10)\n",
    "])\n",
    "(coord * generic_xform.T).col_del(2)"
   ]
  }
 ],
 "metadata": {
  "kernelspec": {
   "display_name": "Python 3",
   "language": "python",
   "name": "python3"
  },
  "language_info": {
   "codemirror_mode": {
    "name": "ipython",
    "version": 3
   },
   "file_extension": ".py",
   "mimetype": "text/x-python",
   "name": "python",
   "nbconvert_exporter": "python",
   "pygments_lexer": "ipython3",
   "version": "3.8.3"
  }
 },
 "nbformat": 4,
 "nbformat_minor": 4
}
